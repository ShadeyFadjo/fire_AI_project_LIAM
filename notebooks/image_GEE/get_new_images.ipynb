{
    "nbformat": 4,
    "nbformat_minor": 0,
    "metadata": {
        "colab": {
            "provenance": [],
            "authorship_tag": "ABX9TyOy18iqE1eZZEri9tK/2MSA"
        },
        "kernelspec": {
            "name": "python3",
            "display_name": "Python 3"
        },
        "language_info": {
            "name": "python"
        }
    },
    "cells": [
        {
            "cell_type": "markdown",
            "source": [
                "# Get new FIRMS images from Google Earth Engine (GEE) API\n",
                "Area of interest : Madagascar"
            ],
            "metadata": {
                "id": "OdQ_5AcIm81w"
            }
        },
        {
            "cell_type": "markdown",
            "source": [
                "Importing libraries"
            ],
            "metadata": {
                "id": "zvp3AYCbncWU"
            }
        },
        {
            "cell_type": "code",
            "source": [
                "import numpy as np\n",
                "import matplotlib.pyplot as plt\n",
                "import ee\n",
                "import geemap\n",
                "from PIL import Image\n",
                "from datetime import datetime, timedelta\n",
                "import os"
            ],
            "metadata": {
                "id": "wCmOrqMinn_V",
                "executionInfo": {
                    "status": "ok",
                    "timestamp": 1749022040488,
                    "user_tz": -180,
                    "elapsed": 7555,
                    "user": {
                        "displayName": "Kaloina RAKOTONARIVO",
                        "userId": "14674432708886248741"
                    }
                }
            },
            "execution_count": 1,
            "outputs": []
        },
        {
            "cell_type": "markdown",
            "source": [
                "Authenticate to Google Earth Engine"
            ],
            "metadata": {
                "id": "31GkDun_oWLJ"
            }
        },
        {
            "cell_type": "code",
            "source": [
                "ee.Authenticate()\n",
                "ee.Initialize(project='ee-kaloina4')  # 'ee-kaloina4' is the project name in GEE"
            ],
            "metadata": {
                "colab": {
                    "base_uri": "https://localhost:8080/",
                    "height": 17
                },
                "id": "mkhSSamKoX0D",
                "executionInfo": {
                    "status": "ok",
                    "timestamp": 1749022070016,
                    "user_tz": -180,
                    "elapsed": 25759,
                    "user": {
                        "displayName": "Kaloina RAKOTONARIVO",
                        "userId": "14674432708886248741"
                    }
                },
                "outputId": "f7179770-3874-43e6-fa58-5c3bd6db7201"
            },
            "execution_count": 2,
            "outputs": [
                {
                    "output_type": "display_data",
                    "data": {
                        "text/plain": [
                            "<IPython.core.display.HTML object>"
                        ],
                        "text/html": [
                            "\n",
                            "            <style>\n",
                            "                .geemap-dark {\n",
                            "                    --jp-widgets-color: white;\n",
                            "                    --jp-widgets-label-color: white;\n",
                            "                    --jp-ui-font-color1: white;\n",
                            "                    --jp-layout-color2: #454545;\n",
                            "                    background-color: #383838;\n",
                            "                }\n",
                            "\n",
                            "                .geemap-dark .jupyter-button {\n",
                            "                    --jp-layout-color3: #383838;\n",
                            "                }\n",
                            "\n",
                            "                .geemap-colab {\n",
                            "                    background-color: var(--colab-primary-surface-color, white);\n",
                            "                }\n",
                            "\n",
                            "                .geemap-colab .jupyter-button {\n",
                            "                    --jp-layout-color3: var(--colab-primary-surface-color, white);\n",
                            "                }\n",
                            "            </style>\n",
                            "            "
                        ]
                    },
                    "metadata": {}
                }
            ]
        },
        {
            "cell_type": "markdown",
            "source": [
                "Access FIRMS satellite images from 2000-11-01 to the current date focusing on Madagascar (cadence: 1 day)"
            ],
            "metadata": {
                "id": "GDCRaAeMpOWm"
            }
        },
        {
            "cell_type": "code",
            "source": [
                "firms_image = ee.ImageCollection(\"FIRMS\")\n",
                "pays = ee.FeatureCollection(\"FAO/GAUL/2015/level0\");\n",
                "madagascar = pays.filter(ee.Filter.eq('ADM0_NAME', 'Madagascar'));\n",
                "\n",
                "def clip_to_madagascar(img):\n",
                "  return img.clip(madagascar)\n",
                "\n",
                "firms_images_mada = firms_image.map(clip_to_madagascar)\n",
                "print(\"Number of FIRMS Madagascar images = \" + str(firms_images_mada.size().getInfo()))"
            ],
            "metadata": {
                "colab": {
                    "base_uri": "https://localhost:8080/",
                    "height": 34
                },
                "id": "r_FjgfjirFAp",
                "executionInfo": {
                    "status": "ok",
                    "timestamp": 1749022077583,
                    "user_tz": -180,
                    "elapsed": 677,
                    "user": {
                        "displayName": "Kaloina RAKOTONARIVO",
                        "userId": "14674432708886248741"
                    }
                },
                "outputId": "d62489da-94dd-4362-e0aa-4d5d036c27e1"
            },
            "execution_count": 3,
            "outputs": [
                {
                    "output_type": "display_data",
                    "data": {
                        "text/plain": [
                            "<IPython.core.display.HTML object>"
                        ],
                        "text/html": [
                            "\n",
                            "            <style>\n",
                            "                .geemap-dark {\n",
                            "                    --jp-widgets-color: white;\n",
                            "                    --jp-widgets-label-color: white;\n",
                            "                    --jp-ui-font-color1: white;\n",
                            "                    --jp-layout-color2: #454545;\n",
                            "                    background-color: #383838;\n",
                            "                }\n",
                            "\n",
                            "                .geemap-dark .jupyter-button {\n",
                            "                    --jp-layout-color3: #383838;\n",
                            "                }\n",
                            "\n",
                            "                .geemap-colab {\n",
                            "                    background-color: var(--colab-primary-surface-color, white);\n",
                            "                }\n",
                            "\n",
                            "                .geemap-colab .jupyter-button {\n",
                            "                    --jp-layout-color3: var(--colab-primary-surface-color, white);\n",
                            "                }\n",
                            "            </style>\n",
                            "            "
                        ]
                    },
                    "metadata": {}
                },
                {
                    "output_type": "stream",
                    "name": "stdout",
                    "text": [
                        "Number of FIRMS Madagascar images = 8944\n"
                    ]
                }
            ]
        },
        {
            "cell_type": "markdown",
            "source": [
                "## Visualization examples"
            ],
            "metadata": {
                "id": "b83Fm4gtr-Ue"
            }
        },
        {
            "cell_type": "code",
            "source": [
                "exemple_mada_fire = firms_images_mada.filterDate(\"2024-01-13\", \"2024-05-28\")\n",
                "print(\"Number of FIRMS Madagascar images example = \" + str(exemple_mada_fire.size().getInfo()))\n",
                "\n",
                "Map=geemap.Map()\n",
                "Map.add_basemap('SATELLITE')\n",
                "Map.addLayer(madagascar, {'color': 'black'}, \"Madagascar\")\n",
                "Map.centerObject(madagascar,5)\n",
                "Map.addLayer(exemple_mada_fire,{},\"ex:fire examples Mada\")\n",
                "Map"
            ],
            "metadata": {
                "id": "Rj5gU0L4sP_g",
                "colab": {
                    "base_uri": "https://localhost:8080/",
                    "height": 638,
                    "referenced_widgets": [
                        "49f2d2c034cb4396aebed5f35726b093",
                        "feedc1b1dc684346a32bc46764d275d8",
                        "70993055c7914282a09101ea82a16c22",
                        "f1edee53da394e868e68dd29366c2cf3",
                        "32f9034aa80c4bc6801a68943a754b06",
                        "b4a41359372545c89e07a0ed22c7aa6c",
                        "9b5913ab179849489d0198db6b9f13f7",
                        "5540c659cd2e41a7bf069d347614f0a1",
                        "c2e3e327cc8c4ec99454bff32563b6c7",
                        "cc991680af814486a50497223e3ab493",
                        "b215f3335e00472f85a9bfa1b36bed1b",
                        "d57c6a1445db43a8aafbc781ef287151",
                        "6030e3059cfc43a4b9a29fb3d1f141cb",
                        "7ce9ee24fbc84e28a81ebf75407f2b32",
                        "823b10fa05014438b2d4e754a4fe3ed4",
                        "c2eeb17e2439423eac2411b68d3aa4a0",
                        "2fea5a571db5496884bed0904bed2cdf",
                        "685e2b0531794b00a3d23f61befc7141",
                        "7698a6cc9c654c439e2dd82ae2d3aecf",
                        "84b3086309884ece86aea4585657d6f5",
                        "bd55a8a5572e4e6db0055b5ac6ff8722",
                        "ec194b94aa68454e9bd4cda4d5e1cc66",
                        "dbde416b402c496e85d90aa95f4e6454",
                        "da680de57279442992292cdb685bdcdb",
                        "51786ad493c04dab87566900825a2f1e",
                        "3bee749092fb445ba22d2d47954e5472",
                        "d1c590e89a3941889afa4af59e39a0d9",
                        "a53904297af5492fbb340ced3ee21289",
                        "62e3962c04d44199bbe169befdfd87ae",
                        "499da12909d34d77a52431753d96fc90",
                        "7de588591b3146898b79f5469974e21b",
                        "c2c769e7ccf24f59b1bacf38361e71ba",
                        "83cd9b0ce624447d932dde9cc4f758fa",
                        "04ec6b0c43014f7abcc1d95c6db46f58",
                        "ac32c5405bd74926b0b86b3a63c8d0fa",
                        "d0c5ccae1b27484cac52b5571595a513",
                        "8cd9ed77249d4d498f116002d7318a12",
                        "05cdf17f5fe54deea8a41f048b682f92",
                        "a5f60201ad8a4aaf9d002d500961266e",
                        "f1b53c86d0a7449f818d3ce383628585",
                        "4754e44af4b646ee97afebe8fd4a3cfc",
                        "af29b8181c454c458796016201651c35",
                        "f15d7f003e2b412499f6b79ec27d9af7",
                        "95491230131f45208aaca61f9617e35e",
                        "a0134db610104172a784d3521c1efdb9",
                        "c2741b982843495c8e4663902c397a1f",
                        "3dc5767ad65c453e9048da7051eeb47d",
                        "6afc8fb9781e45d7b4dba4458952f9a9",
                        "98095d09202b4cb9b878b8c89e850a6b",
                        "6586722a9ef04d0197bd92e455b8c783",
                        "644a10d4d68f40dfa8d1605e7722d6ef",
                        "9ce174e5b68e44b29f69067b2d459c1a",
                        "7eec2f205d14496bbe5b75a6498f4c40",
                        "0b2b200b5bc54f27ad4493ad76b233d3",
                        "74710711fa3244fa97f549ffd43a1894",
                        "989ed504c7a54396a7e6135ec4674a4f",
                        "02b6fa37a62346419c5412cdcb996d86",
                        "ff185c571cf34236a4b2586d92939fef",
                        "f2544168fd084570ae3f7ce01f3de26f",
                        "eee0b5d25eba4507b63971a983ad4b0b",
                        "d0afa90c10b24a46a750cd2ac3b9c28c",
                        "2d30d649d0624e5bad2f81a4839a3f76",
                        "ce84e54a53584089a510424af1b6c689",
                        "94536b65c05e43fb95dcf9541276a084",
                        "5db2e4e42624411e99149724db5463fd",
                        "642ab0fd24314dad9f05f7ba5bb6b8c8",
                        "eb404d0acd5e42428205c5583c6bd95d",
                        "22c62ac947f045b5aa0538da8389f347",
                        "b8de7d81d5e546f192958bb3a8768553",
                        "f2e8b02884c64c468674e0d15fccf616",
                        "1df5be71cbc24ba48853fc59a4801d9c",
                        "e3be5f24ecf64a18a2772d3da5b5254e",
                        "591a1f3b80084f178ba98ca70e30f881",
                        "01a9eb72f12e4962bc0c960eb7129bd0",
                        "65395b8ad1654e7abb02f6dd2feed0dc",
                        "7e0ed9a9b0e644148fd122135e81a3f6",
                        "4398d34b794d4de88958e8327e345eca",
                        "f71d50a0100345ddb7deca005dbf1537",
                        "f777153afc934015ac7e64c39253036d",
                        "9108718797874b4c858bff4625fdcf79",
                        "7c291b04e65641e1a7d3841261b9350f",
                        "8ce9d3a506f44d699ab6feefd6e023cb",
                        "296aebc6da664c56a377c0f5248470a3",
                        "e640af56430c447796f08f68738f961a",
                        "8a41c7fc7db94f6ba22199a81578dcb6",
                        "3b6b373f3bde439281689ebd76f70f98",
                        "19e69695c532475abb17c3c27672bf59",
                        "c0902e0fe003452aa7e7d02a8a1ef148",
                        "ef7af20524f445e6a9a5f38f008b26bb",
                        "1f3bf67ed54d4c8790a5a5ea6a74f27d",
                        "b579e03337b64d71a5104c987c3a8ae6",
                        "35682d64e45b4ff7ad92ee83f0c556dc",
                        "6e995e01d900434c8386098d680875bf",
                        "6c01d8f363ea45c89b70f2428384aaea",
                        "d8793825cb0146acae8856dc9c092166",
                        "e60bacf80a514aafb54754f6e8cdb48d",
                        "d4c12f4ad9554eb3a13350e645fe54a9",
                        "ed8130d9371648aa88d5638c02ebbffe",
                        "a1e6201c058a4713ba6499c926e54f2f",
                        "446a5bd32f514e3391ec5eae7c76317b",
                        "b325727a6db24ba8aa5980967c9adbd2",
                        "98d0f12968a54a219d2646d6e6f39bfb",
                        "9effb06e396e4b0b9173e7b0ac6551c7",
                        "ac24a30f01cd490db5703de659bbc2db",
                        "ba508449dae342908490ead526084684"
                    ]
                },
                "executionInfo": {
                    "status": "ok",
                    "timestamp": 1749022085835,
                    "user_tz": -180,
                    "elapsed": 4134,
                    "user": {
                        "displayName": "Kaloina RAKOTONARIVO",
                        "userId": "14674432708886248741"
                    }
                },
                "outputId": "f28d4ddc-84c9-4181-f3ad-d0a72bce8df5"
            },
            "execution_count": 4,
            "outputs": [
                {
                    "output_type": "display_data",
                    "data": {
                        "text/plain": [
                            "<IPython.core.display.HTML object>"
                        ],
                        "text/html": [
                            "\n",
                            "            <style>\n",
                            "                .geemap-dark {\n",
                            "                    --jp-widgets-color: white;\n",
                            "                    --jp-widgets-label-color: white;\n",
                            "                    --jp-ui-font-color1: white;\n",
                            "                    --jp-layout-color2: #454545;\n",
                            "                    background-color: #383838;\n",
                            "                }\n",
                            "\n",
                            "                .geemap-dark .jupyter-button {\n",
                            "                    --jp-layout-color3: #383838;\n",
                            "                }\n",
                            "\n",
                            "                .geemap-colab {\n",
                            "                    background-color: var(--colab-primary-surface-color, white);\n",
                            "                }\n",
                            "\n",
                            "                .geemap-colab .jupyter-button {\n",
                            "                    --jp-layout-color3: var(--colab-primary-surface-color, white);\n",
                            "                }\n",
                            "            </style>\n",
                            "            "
                        ]
                    },
                    "metadata": {}
                },
                {
                    "output_type": "stream",
                    "name": "stdout",
                    "text": [
                        "Number of FIRMS Madagascar images example = 136\n"
                    ]
                },
                {
                    "output_type": "display_data",
                    "data": {
                        "text/plain": [
                            "Map(center=[-19.335922158747394, 46.7382233762819], controls=(WidgetControl(options=['position', 'transparent_\u00e2\u20ac\u00a6"
                        ],
                        "application/vnd.jupyter.widget-view+json": {
                            "version_major": 2,
                            "version_minor": 0,
                            "model_id": "49f2d2c034cb4396aebed5f35726b093"
                        }
                    },
                    "metadata": {
                        "application/vnd.jupyter.widget-view+json": {
                            "colab": {
                                "custom_widget_manager": {
                                    "url": "https://ssl.gstatic.com/colaboratory-static/widgets/colab-cdn-widget-manager/2b70e893a8ba7c0f/manager.min.js"
                                }
                            }
                        }
                    }
                }
            ]
        },
        {
            "cell_type": "markdown",
            "source": [
                "# Process FIRMS satellite images into grayscale PNG images\n",
                "Available FIRMS satellite images: from 2000 - 11 - 01"
            ],
            "metadata": {
                "id": "umnDl1Idd6Yy"
            }
        },
        {
            "cell_type": "markdown",
            "source": [
                "We'll put our new data in Google Drive"
            ],
            "metadata": {
                "id": "HyFAh4ywm5aQ"
            }
        },
        {
            "cell_type": "code",
            "source": [
                "from google.colab import drive\n",
                "drive.mount('/content/drive/')"
            ],
            "metadata": {
                "colab": {
                    "base_uri": "https://localhost:8080/",
                    "height": 34
                },
                "id": "ZUX0WVPmmzxA",
                "executionInfo": {
                    "status": "ok",
                    "timestamp": 1749022122706,
                    "user_tz": -180,
                    "elapsed": 27858,
                    "user": {
                        "displayName": "Kaloina RAKOTONARIVO",
                        "userId": "14674432708886248741"
                    }
                },
                "outputId": "31e911d5-ad94-4656-af26-5a63ca324d11"
            },
            "execution_count": 5,
            "outputs": [
                {
                    "output_type": "display_data",
                    "data": {
                        "text/plain": [
                            "<IPython.core.display.HTML object>"
                        ],
                        "text/html": [
                            "\n",
                            "            <style>\n",
                            "                .geemap-dark {\n",
                            "                    --jp-widgets-color: white;\n",
                            "                    --jp-widgets-label-color: white;\n",
                            "                    --jp-ui-font-color1: white;\n",
                            "                    --jp-layout-color2: #454545;\n",
                            "                    background-color: #383838;\n",
                            "                }\n",
                            "\n",
                            "                .geemap-dark .jupyter-button {\n",
                            "                    --jp-layout-color3: #383838;\n",
                            "                }\n",
                            "\n",
                            "                .geemap-colab {\n",
                            "                    background-color: var(--colab-primary-surface-color, white);\n",
                            "                }\n",
                            "\n",
                            "                .geemap-colab .jupyter-button {\n",
                            "                    --jp-layout-color3: var(--colab-primary-surface-color, white);\n",
                            "                }\n",
                            "            </style>\n",
                            "            "
                        ]
                    },
                    "metadata": {}
                },
                {
                    "output_type": "stream",
                    "name": "stdout",
                    "text": [
                        "Mounted at /content/drive/\n"
                    ]
                }
            ]
        },
        {
            "cell_type": "markdown",
            "source": [
                "Input : start and end date  "
            ],
            "metadata": {
                "id": "reTXOR8oocjR"
            }
        },
        {
            "cell_type": "code",
            "source": [
                "initial_date='2025-06-01'\n",
                "until_date='2025-06-03'"
            ],
            "metadata": {
                "colab": {
                    "base_uri": "https://localhost:8080/",
                    "height": 17
                },
                "id": "8fE-tCHPoVGy",
                "executionInfo": {
                    "status": "ok",
                    "timestamp": 1749022125516,
                    "user_tz": -180,
                    "elapsed": 30,
                    "user": {
                        "displayName": "Kaloina RAKOTONARIVO",
                        "userId": "14674432708886248741"
                    }
                },
                "outputId": "490d90aa-f0ff-4d74-a2bc-f95854cfc3ca"
            },
            "execution_count": 6,
            "outputs": [
                {
                    "output_type": "display_data",
                    "data": {
                        "text/plain": [
                            "<IPython.core.display.HTML object>"
                        ],
                        "text/html": [
                            "\n",
                            "            <style>\n",
                            "                .geemap-dark {\n",
                            "                    --jp-widgets-color: white;\n",
                            "                    --jp-widgets-label-color: white;\n",
                            "                    --jp-ui-font-color1: white;\n",
                            "                    --jp-layout-color2: #454545;\n",
                            "                    background-color: #383838;\n",
                            "                }\n",
                            "\n",
                            "                .geemap-dark .jupyter-button {\n",
                            "                    --jp-layout-color3: #383838;\n",
                            "                }\n",
                            "\n",
                            "                .geemap-colab {\n",
                            "                    background-color: var(--colab-primary-surface-color, white);\n",
                            "                }\n",
                            "\n",
                            "                .geemap-colab .jupyter-button {\n",
                            "                    --jp-layout-color3: var(--colab-primary-surface-color, white);\n",
                            "                }\n",
                            "            </style>\n",
                            "            "
                        ]
                    },
                    "metadata": {}
                }
            ]
        },
        {
            "cell_type": "markdown",
            "source": [
                "We create folders for our new images"
            ],
            "metadata": {
                "id": "JSmLlIjCoD55"
            }
        },
        {
            "cell_type": "code",
            "source": [
                "folder_path = \"/content/drive/MyDrive/LIAM/Fire_Project/AI_project/data/raw/image_GEE/\"\n",
                "new_folder = folder_path + initial_date + ',' + until_date\n",
                "os.makedirs(folder_path + initial_date + ',' + until_date, exist_ok=True)"
            ],
            "metadata": {
                "colab": {
                    "base_uri": "https://localhost:8080/",
                    "height": 17
                },
                "id": "v-AI4fjIoC4D",
                "executionInfo": {
                    "status": "ok",
                    "timestamp": 1749022131816,
                    "user_tz": -180,
                    "elapsed": 1394,
                    "user": {
                        "displayName": "Kaloina RAKOTONARIVO",
                        "userId": "14674432708886248741"
                    }
                },
                "outputId": "4970b72e-bb84-47b2-d6d6-5d5c857a0b8f"
            },
            "execution_count": 7,
            "outputs": [
                {
                    "output_type": "display_data",
                    "data": {
                        "text/plain": [
                            "<IPython.core.display.HTML object>"
                        ],
                        "text/html": [
                            "\n",
                            "            <style>\n",
                            "                .geemap-dark {\n",
                            "                    --jp-widgets-color: white;\n",
                            "                    --jp-widgets-label-color: white;\n",
                            "                    --jp-ui-font-color1: white;\n",
                            "                    --jp-layout-color2: #454545;\n",
                            "                    background-color: #383838;\n",
                            "                }\n",
                            "\n",
                            "                .geemap-dark .jupyter-button {\n",
                            "                    --jp-layout-color3: #383838;\n",
                            "                }\n",
                            "\n",
                            "                .geemap-colab {\n",
                            "                    background-color: var(--colab-primary-surface-color, white);\n",
                            "                }\n",
                            "\n",
                            "                .geemap-colab .jupyter-button {\n",
                            "                    --jp-layout-color3: var(--colab-primary-surface-color, white);\n",
                            "                }\n",
                            "            </style>\n",
                            "            "
                        ]
                    },
                    "metadata": {}
                }
            ]
        },
        {
            "cell_type": "code",
            "source": [
                "start_date=initial_date\n",
                "\n",
                "def add_days(date_str,dayadd=10):\n",
                "    date_obj = datetime.strptime(date_str, \"%Y-%m-%d\")\n",
                "    new_date = date_obj + timedelta(days=dayadd)\n",
                "    return new_date.strftime(\"%Y-%m-%d\")\n",
                "\n",
                "gray_normalization = 180\n",
                "\n",
                "while start_date < until_date:\n",
                "    end_date=add_days(start_date)\n",
                "    print('start_date: ' + start_date + ', end_date: '+ end_date)\n",
                "    filter_mada_fire= firms_images_mada.filterDate(start_date, end_date)\n",
                "    image=filter_mada_fire.max()\n",
                "    imaget21=image.select('T21')\n",
                "    arrayt21 = geemap.ee_to_numpy(imaget21, region=madagascar, scale=1000)\n",
                "    arrayt21 = np.squeeze(arrayt21, axis=2)\n",
                "    arrayt21[arrayt21 != 0] -= gray_normalization\n",
                "    arrayt21 = arrayt21.astype(np.uint8)\n",
                "    img = Image.fromarray(arrayt21, mode='L')\n",
                "    directory=os.path.join(new_folder, start_date + ',' + end_date + '.png')\n",
                "    img.save(directory)\n",
                "    start_date=add_days(end_date,1)\n",
                "\n",
                "print('end date: ' + end_date)"
            ],
            "metadata": {
                "id": "5UEVvBvzeZfo",
                "colab": {
                    "base_uri": "https://localhost:8080/",
                    "height": 52
                },
                "executionInfo": {
                    "status": "ok",
                    "timestamp": 1749022140619,
                    "user_tz": -180,
                    "elapsed": 4402,
                    "user": {
                        "displayName": "Kaloina RAKOTONARIVO",
                        "userId": "14674432708886248741"
                    }
                },
                "outputId": "92afc8f2-b0d6-4c3d-efa3-7de13eb1c7a7"
            },
            "execution_count": 8,
            "outputs": [
                {
                    "output_type": "display_data",
                    "data": {
                        "text/plain": [
                            "<IPython.core.display.HTML object>"
                        ],
                        "text/html": [
                            "\n",
                            "            <style>\n",
                            "                .geemap-dark {\n",
                            "                    --jp-widgets-color: white;\n",
                            "                    --jp-widgets-label-color: white;\n",
                            "                    --jp-ui-font-color1: white;\n",
                            "                    --jp-layout-color2: #454545;\n",
                            "                    background-color: #383838;\n",
                            "                }\n",
                            "\n",
                            "                .geemap-dark .jupyter-button {\n",
                            "                    --jp-layout-color3: #383838;\n",
                            "                }\n",
                            "\n",
                            "                .geemap-colab {\n",
                            "                    background-color: var(--colab-primary-surface-color, white);\n",
                            "                }\n",
                            "\n",
                            "                .geemap-colab .jupyter-button {\n",
                            "                    --jp-layout-color3: var(--colab-primary-surface-color, white);\n",
                            "                }\n",
                            "            </style>\n",
                            "            "
                        ]
                    },
                    "metadata": {}
                },
                {
                    "output_type": "stream",
                    "name": "stdout",
                    "text": [
                        "start_date: 2025-06-01, end_date: 2025-06-11\n",
                        "end date: 2025-06-11\n"
                    ]
                }
            ]
        }
    ]
}