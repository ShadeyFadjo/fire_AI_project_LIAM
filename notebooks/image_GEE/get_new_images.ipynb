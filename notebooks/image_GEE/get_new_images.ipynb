{
    "nbformat": 4,
    "nbformat_minor": 0,
    "metadata": {
        "colab": {
            "provenance": [],
            "authorship_tag": "ABX9TyPpJGYtgh6+AvLtI1nENVPt"
        },
        "kernelspec": {
            "name": "python3",
            "display_name": "Python 3"
        },
        "language_info": {
            "name": "python"
        }
    },
    "cells": [
        {
            "cell_type": "markdown",
            "source": [
                "# Get new FIRMS images from Google Earth Engine (GEE) API\n",
                "Area of interest : Madagascar"
            ],
            "metadata": {
                "id": "OdQ_5AcIm81w"
            }
        },
        {
            "cell_type": "markdown",
            "source": [
                "Importing libraries"
            ],
            "metadata": {
                "id": "zvp3AYCbncWU"
            }
        },
        {
            "cell_type": "code",
            "source": [
                "import numpy as np\n",
                "import matplotlib.pyplot as plt\n",
                "import ee\n",
                "import geemap\n",
                "from PIL import Image\n",
                "from datetime import datetime, timedelta\n",
                "import os"
            ],
            "metadata": {
                "id": "wCmOrqMinn_V",
                "executionInfo": {
                    "status": "ok",
                    "timestamp": 1749643003985,
                    "user_tz": -180,
                    "elapsed": 12360,
                    "user": {
                        "displayName": "Kaloina RAKOTONARIVO",
                        "userId": "14674432708886248741"
                    }
                }
            },
            "execution_count": 1,
            "outputs": []
        },
        {
            "cell_type": "markdown",
            "source": [
                "Authenticate to Google Earth Engine"
            ],
            "metadata": {
                "id": "31GkDun_oWLJ"
            }
        },
        {
            "cell_type": "code",
            "source": [
                "ee.Authenticate()\n",
                "ee.Initialize(project='ee-kaloina4')  # 'ee-kaloina4' is the project name in GEE"
            ],
            "metadata": {
                "colab": {
                    "base_uri": "https://localhost:8080/",
                    "height": 17
                },
                "id": "mkhSSamKoX0D",
                "executionInfo": {
                    "status": "ok",
                    "timestamp": 1749643042521,
                    "user_tz": -180,
                    "elapsed": 22266,
                    "user": {
                        "displayName": "Kaloina RAKOTONARIVO",
                        "userId": "14674432708886248741"
                    }
                },
                "outputId": "80c1db45-1df6-4a4b-e25d-880fe6e66545"
            },
            "execution_count": 2,
            "outputs": [
                {
                    "output_type": "display_data",
                    "data": {
                        "text/plain": [
                            "<IPython.core.display.HTML object>"
                        ],
                        "text/html": [
                            "\n",
                            "            <style>\n",
                            "                .geemap-dark {\n",
                            "                    --jp-widgets-color: white;\n",
                            "                    --jp-widgets-label-color: white;\n",
                            "                    --jp-ui-font-color1: white;\n",
                            "                    --jp-layout-color2: #454545;\n",
                            "                    background-color: #383838;\n",
                            "                }\n",
                            "\n",
                            "                .geemap-dark .jupyter-button {\n",
                            "                    --jp-layout-color3: #383838;\n",
                            "                }\n",
                            "\n",
                            "                .geemap-colab {\n",
                            "                    background-color: var(--colab-primary-surface-color, white);\n",
                            "                }\n",
                            "\n",
                            "                .geemap-colab .jupyter-button {\n",
                            "                    --jp-layout-color3: var(--colab-primary-surface-color, white);\n",
                            "                }\n",
                            "            </style>\n",
                            "            "
                        ]
                    },
                    "metadata": {}
                }
            ]
        },
        {
            "cell_type": "markdown",
            "source": [
                "Access FIRMS satellite images from 2000-11-01 to the current date focusing on Madagascar (cadence: 1 day)"
            ],
            "metadata": {
                "id": "GDCRaAeMpOWm"
            }
        },
        {
            "cell_type": "code",
            "source": [
                "firms_image = ee.ImageCollection(\"FIRMS\")\n",
                "pays = ee.FeatureCollection(\"FAO/GAUL/2015/level0\");\n",
                "madagascar = pays.filter(ee.Filter.eq('ADM0_NAME', 'Madagascar'));\n",
                "\n",
                "def clip_to_madagascar(img):\n",
                "  return img.clip(madagascar)\n",
                "\n",
                "firms_images_mada = firms_image.map(clip_to_madagascar)\n",
                "print(\"Number of FIRMS Madagascar images = \" + str(firms_images_mada.size().getInfo()))"
            ],
            "metadata": {
                "colab": {
                    "base_uri": "https://localhost:8080/",
                    "height": 34
                },
                "id": "r_FjgfjirFAp",
                "executionInfo": {
                    "status": "ok",
                    "timestamp": 1749643048188,
                    "user_tz": -180,
                    "elapsed": 407,
                    "user": {
                        "displayName": "Kaloina RAKOTONARIVO",
                        "userId": "14674432708886248741"
                    }
                },
                "outputId": "cd3e7f35-8265-41b8-ebc9-765803463dac"
            },
            "execution_count": 3,
            "outputs": [
                {
                    "output_type": "display_data",
                    "data": {
                        "text/plain": [
                            "<IPython.core.display.HTML object>"
                        ],
                        "text/html": [
                            "\n",
                            "            <style>\n",
                            "                .geemap-dark {\n",
                            "                    --jp-widgets-color: white;\n",
                            "                    --jp-widgets-label-color: white;\n",
                            "                    --jp-ui-font-color1: white;\n",
                            "                    --jp-layout-color2: #454545;\n",
                            "                    background-color: #383838;\n",
                            "                }\n",
                            "\n",
                            "                .geemap-dark .jupyter-button {\n",
                            "                    --jp-layout-color3: #383838;\n",
                            "                }\n",
                            "\n",
                            "                .geemap-colab {\n",
                            "                    background-color: var(--colab-primary-surface-color, white);\n",
                            "                }\n",
                            "\n",
                            "                .geemap-colab .jupyter-button {\n",
                            "                    --jp-layout-color3: var(--colab-primary-surface-color, white);\n",
                            "                }\n",
                            "            </style>\n",
                            "            "
                        ]
                    },
                    "metadata": {}
                },
                {
                    "output_type": "stream",
                    "name": "stdout",
                    "text": [
                        "Number of FIRMS Madagascar images = 8951\n"
                    ]
                }
            ]
        },
        {
            "cell_type": "markdown",
            "source": [
                "## Visualization examples"
            ],
            "metadata": {
                "id": "b83Fm4gtr-Ue"
            }
        },
        {
            "cell_type": "code",
            "source": [
                "exemple_mada_fire = firms_images_mada.filterDate(\"2024-01-13\", \"2024-05-28\")\n",
                "print(\"Number of FIRMS Madagascar images example = \" + str(exemple_mada_fire.size().getInfo()))\n",
                "\n",
                "Map=geemap.Map()\n",
                "Map.add_basemap('SATELLITE')\n",
                "Map.addLayer(madagascar, {'color': 'black'}, \"Madagascar\")\n",
                "Map.centerObject(madagascar,5)\n",
                "Map.addLayer(exemple_mada_fire,{},\"ex:fire examples Mada\")\n",
                "Map"
            ],
            "metadata": {
                "id": "Rj5gU0L4sP_g",
                "colab": {
                    "base_uri": "https://localhost:8080/",
                    "height": 638,
                    "referenced_widgets": [
                        "48fbb94fe00f45679b1a99d96cb99551",
                        "309eac15dd9e45c58adc55caacbc07b0",
                        "af6691bc141747b5bc2f945de9b4d8a4",
                        "7fe32b41bce34672b1fa5fdb29365a6e",
                        "950157fcc0754e80b5c5e65b6ef5722a",
                        "1989ab4ac0394cf5bf387fa9b7a3118b",
                        "8a966e4d82694d90aaeccad32d35e79f",
                        "2b00d6ca48eb4aacbdfd2567b4c58d33",
                        "345f12075bc14601b8ebc45a61e9c2f0",
                        "ff62be7d6394451197f29b13548813d7",
                        "7bd4c1421d484ea3bf5064d3d158087d",
                        "0e631506b10f4b46a058725c32da6ada",
                        "2b505ae9645c496aaf132198ea190578",
                        "64e42042aca7418f97924403cf96eeb7",
                        "ca4c3c2ca8054ed09f39e57012ba1077",
                        "24f9bba8a26d4eed81833db7dbc4efef",
                        "03d1be058dcf4ba7ac27fad2cc7b7195",
                        "f494e15206f145749be90111fad07ce1",
                        "59534f1fca7c4499aa3c90ae39225f21",
                        "c039bec7874c47109cc4d439d32bd14e",
                        "231386e178ad4ac3a68b8b157e72c1c6",
                        "fbf4a839139346578dc3e360c18149ac",
                        "ad35397061e847f29661efb7e8386068",
                        "4e800b84c2c04c9f98408159d2d5e790",
                        "94e36ce304d947f18a84bfe8ec33cf93",
                        "3d358f5391d34528bb93f9302ee9ad3f",
                        "04212fb0062d40f7ae19ccec0ca71894",
                        "257b5455053b4523b8d3279b80570a05",
                        "3ef6b7218bad4970b0e0e4ea56de828a",
                        "18620eeb620f442fbecabec7e2016c18",
                        "d06f5eb91b0e4d068cd7d43d0f501111",
                        "e91e9f93d7504534ac92c730b0248ed0",
                        "cb7da59bfd3949b5844188231cb7bf3f",
                        "3b7a0432d36641388a17b5935f907e2d",
                        "1232bf3a1500404dbe459339f308edd7",
                        "fb27aab779bc4d6784b53baefc11dee8",
                        "68b27a83b7cb4decaa2992c48d7a4db9",
                        "a2a9d02d7dcc442a8f3bdb736a7fceb7",
                        "942c2bbfbf9645d6a010abdda5d9600a",
                        "0ac9135f24d245c8965333e5663bdc20",
                        "50a2c63ccddd43b685cc00f1d4460af1",
                        "9cd02e7d5d7f4c3f86239c87869239a8",
                        "23539d12b627438f93fbce11691d6566",
                        "c97701aabe2a40089057861bb6a1b637",
                        "27faf4e302f9416b871d3b1bd7400025",
                        "55ee64adf0424c96962ff6e9a98a41dd",
                        "d1c08fe67f4145aeb4529be7061a0019",
                        "34d584b33c1b4051b4c98be89ea91e37",
                        "dff2b24300214038a8e8680e9701a331",
                        "5ad3b61ab3e444b98de8c7daa1c7c052",
                        "8a45e939f34549888151bff3b2100cd7",
                        "d254ca39bcc34bba8c9b3bd0c7b55cc9",
                        "61e87da92ec24cbb9f90df531a8ec628",
                        "0952cca54c084d62841791c8832c4414",
                        "a819e00a70ba4803a7ed91d570711af4",
                        "9f685fbd939e4905909535216b959f78",
                        "9f3b21b68e4a4bc9ac7a26098ee2740b",
                        "f5bc7041e03e42e6be99ab37601a3681",
                        "d78aaefd6dc34d1fbfccd08cdbf0fa7f",
                        "9cdc2fa8560045eaaea5863a1570b38c",
                        "58de0950a2c148ce917bea32866060f6",
                        "e9fbcee805d747c38266a7d416af1688",
                        "577ff1e83b2d4c9594b2ba158be0eeeb",
                        "5913862f760f460197148b5278288583",
                        "4ef75050428840e6b7dfc05beb9909b3",
                        "fe3a4363344340ff842bfb8dbd4cf9c6",
                        "6db89cd6c5b24022a5947240ad0c3afe",
                        "4e5c6e3338824dbdb1657c843028829e",
                        "aecd2734c35d4782bb378ec33638aebf",
                        "ce6c9435d8ee4c09934eac0f8ff50279",
                        "a684aec8968942efaed1a7f25f79eb49",
                        "8051ecbaf0e147958853209893ae3cc2",
                        "09216760c4664c3198375ef7e57df1e2",
                        "d7d4ad61986048ca99568f658f2e0036",
                        "bdba98ca93f2423881cdac30b9d67bc3",
                        "2bb4044f0b73430086c4d917e6397904",
                        "edd6ef7feffe4473b1e9cb07835ce010",
                        "6a9ad62b27904adab7fd4cd0928b7abb",
                        "c520efd5bbef42a2815d94361266afad",
                        "9be882a1b8e64fc89f32d40e6acc0ea1",
                        "30bb8c478c97485f8b49b20622fe8f92",
                        "419b988c12d844db9247d857310e4499",
                        "0aa25f64e376410aa6cf9442ffd9f76c",
                        "63594848006d48fbb033146c9371424e",
                        "cc8291f155a44608bb63e208e841cb56",
                        "8ccdbfdbdc18499aac28f94bf033eb83",
                        "8f4c7524819d4a0695414d9abe5718dd",
                        "a56f57b7cad44e99b67adbcf9802bfb6",
                        "467eb8e1a78a4c4a894a254b98beb48a",
                        "cd0d38fa01b94483a49f20cb73fe6ae4",
                        "8293553740634b4ab8e412469de21662",
                        "399c25d9c07c41a8abe81db0c0e76b7c",
                        "dc9f345cf38141cb9ba614ca8429fbad",
                        "bcc183ed3328433e9df02dd58994ccd7",
                        "22e1150262ae42c68aa7178b9c2300a5",
                        "bdc9dd48c91f4ef59ba319836f33e329",
                        "3a2b7a3950a9412895ed831249864a88",
                        "2c00193e6d2c484ba36c7a71773a8906",
                        "a4b7128dafc54f6aab68fbca82092ca9",
                        "141cfce559c44c8996b894eb07bd9aa0",
                        "5d6091912d0d4ea69b03cb4cf0f3375c",
                        "ed07da4a10034809a6dd6f25f7d03792",
                        "d7ae2cf162374ee0aba78a25d32a5ebe",
                        "3fa1f00d70f84223be22929901afd7d3",
                        "59a8bbca2ddf4fa5ae8fa5dd59fb1724"
                    ]
                },
                "executionInfo": {
                    "status": "ok",
                    "timestamp": 1749643056418,
                    "user_tz": -180,
                    "elapsed": 3158,
                    "user": {
                        "displayName": "Kaloina RAKOTONARIVO",
                        "userId": "14674432708886248741"
                    }
                },
                "outputId": "09e3baae-a193-4204-d9fd-238f8660a059"
            },
            "execution_count": 4,
            "outputs": [
                {
                    "output_type": "display_data",
                    "data": {
                        "text/plain": [
                            "<IPython.core.display.HTML object>"
                        ],
                        "text/html": [
                            "\n",
                            "            <style>\n",
                            "                .geemap-dark {\n",
                            "                    --jp-widgets-color: white;\n",
                            "                    --jp-widgets-label-color: white;\n",
                            "                    --jp-ui-font-color1: white;\n",
                            "                    --jp-layout-color2: #454545;\n",
                            "                    background-color: #383838;\n",
                            "                }\n",
                            "\n",
                            "                .geemap-dark .jupyter-button {\n",
                            "                    --jp-layout-color3: #383838;\n",
                            "                }\n",
                            "\n",
                            "                .geemap-colab {\n",
                            "                    background-color: var(--colab-primary-surface-color, white);\n",
                            "                }\n",
                            "\n",
                            "                .geemap-colab .jupyter-button {\n",
                            "                    --jp-layout-color3: var(--colab-primary-surface-color, white);\n",
                            "                }\n",
                            "            </style>\n",
                            "            "
                        ]
                    },
                    "metadata": {}
                },
                {
                    "output_type": "stream",
                    "name": "stdout",
                    "text": [
                        "Number of FIRMS Madagascar images example = 136\n"
                    ]
                },
                {
                    "output_type": "display_data",
                    "data": {
                        "text/plain": [
                            "Map(center=[-19.335922158747394, 46.7382233762819], controls=(WidgetControl(options=['position', 'transparent_\u00e2\u20ac\u00a6"
                        ],
                        "application/vnd.jupyter.widget-view+json": {
                            "version_major": 2,
                            "version_minor": 0,
                            "model_id": "48fbb94fe00f45679b1a99d96cb99551"
                        }
                    },
                    "metadata": {
                        "application/vnd.jupyter.widget-view+json": {
                            "colab": {
                                "custom_widget_manager": {
                                    "url": "https://ssl.gstatic.com/colaboratory-static/widgets/colab-cdn-widget-manager/2b70e893a8ba7c0f/manager.min.js"
                                }
                            }
                        }
                    }
                }
            ]
        },
        {
            "cell_type": "markdown",
            "source": [
                "# Process FIRMS satellite images into grayscale PNG images\n",
                "Available FIRMS satellite images: from 2000 - 11 - 01"
            ],
            "metadata": {
                "id": "umnDl1Idd6Yy"
            }
        },
        {
            "cell_type": "markdown",
            "source": [
                "We'll put our new data in Google Drive"
            ],
            "metadata": {
                "id": "HyFAh4ywm5aQ"
            }
        },
        {
            "cell_type": "code",
            "source": [
                "from google.colab import drive\n",
                "drive.mount('/content/drive/')"
            ],
            "metadata": {
                "colab": {
                    "base_uri": "https://localhost:8080/",
                    "height": 34
                },
                "id": "ZUX0WVPmmzxA",
                "executionInfo": {
                    "status": "ok",
                    "timestamp": 1749643085543,
                    "user_tz": -180,
                    "elapsed": 22669,
                    "user": {
                        "displayName": "Kaloina RAKOTONARIVO",
                        "userId": "14674432708886248741"
                    }
                },
                "outputId": "c34472fd-5083-40d7-a62e-1710d09a9f0b"
            },
            "execution_count": 5,
            "outputs": [
                {
                    "output_type": "display_data",
                    "data": {
                        "text/plain": [
                            "<IPython.core.display.HTML object>"
                        ],
                        "text/html": [
                            "\n",
                            "            <style>\n",
                            "                .geemap-dark {\n",
                            "                    --jp-widgets-color: white;\n",
                            "                    --jp-widgets-label-color: white;\n",
                            "                    --jp-ui-font-color1: white;\n",
                            "                    --jp-layout-color2: #454545;\n",
                            "                    background-color: #383838;\n",
                            "                }\n",
                            "\n",
                            "                .geemap-dark .jupyter-button {\n",
                            "                    --jp-layout-color3: #383838;\n",
                            "                }\n",
                            "\n",
                            "                .geemap-colab {\n",
                            "                    background-color: var(--colab-primary-surface-color, white);\n",
                            "                }\n",
                            "\n",
                            "                .geemap-colab .jupyter-button {\n",
                            "                    --jp-layout-color3: var(--colab-primary-surface-color, white);\n",
                            "                }\n",
                            "            </style>\n",
                            "            "
                        ]
                    },
                    "metadata": {}
                },
                {
                    "output_type": "stream",
                    "name": "stdout",
                    "text": [
                        "Mounted at /content/drive/\n"
                    ]
                }
            ]
        },
        {
            "cell_type": "markdown",
            "source": [
                "Input : start and end date  "
            ],
            "metadata": {
                "id": "reTXOR8oocjR"
            }
        },
        {
            "cell_type": "code",
            "source": [
                "initial_date='2025-06-11'\n",
                "until_date='2025-12-31'"
            ],
            "metadata": {
                "colab": {
                    "base_uri": "https://localhost:8080/",
                    "height": 17
                },
                "id": "8fE-tCHPoVGy",
                "executionInfo": {
                    "status": "ok",
                    "timestamp": 1749648482745,
                    "user_tz": -180,
                    "elapsed": 20,
                    "user": {
                        "displayName": "Kaloina RAKOTONARIVO",
                        "userId": "14674432708886248741"
                    }
                },
                "outputId": "b860e55e-ee6a-474d-9007-fb1340bfa2ab"
            },
            "execution_count": 84,
            "outputs": [
                {
                    "output_type": "display_data",
                    "data": {
                        "text/plain": [
                            "<IPython.core.display.HTML object>"
                        ],
                        "text/html": [
                            "\n",
                            "            <style>\n",
                            "                .geemap-dark {\n",
                            "                    --jp-widgets-color: white;\n",
                            "                    --jp-widgets-label-color: white;\n",
                            "                    --jp-ui-font-color1: white;\n",
                            "                    --jp-layout-color2: #454545;\n",
                            "                    background-color: #383838;\n",
                            "                }\n",
                            "\n",
                            "                .geemap-dark .jupyter-button {\n",
                            "                    --jp-layout-color3: #383838;\n",
                            "                }\n",
                            "\n",
                            "                .geemap-colab {\n",
                            "                    background-color: var(--colab-primary-surface-color, white);\n",
                            "                }\n",
                            "\n",
                            "                .geemap-colab .jupyter-button {\n",
                            "                    --jp-layout-color3: var(--colab-primary-surface-color, white);\n",
                            "                }\n",
                            "            </style>\n",
                            "            "
                        ]
                    },
                    "metadata": {}
                }
            ]
        },
        {
            "cell_type": "markdown",
            "source": [
                "We create folders for our new images"
            ],
            "metadata": {
                "id": "JSmLlIjCoD55"
            }
        },
        {
            "cell_type": "code",
            "source": [
                "folder_path = \"/content/drive/MyDrive/LIAM/Fire_Project/AI_project/data/raw/image_GEE/\"\n",
                "new_folder = folder_path + initial_date + ',' + until_date\n",
                "os.makedirs(folder_path + initial_date + ',' + until_date, exist_ok=True)"
            ],
            "metadata": {
                "colab": {
                    "base_uri": "https://localhost:8080/",
                    "height": 17
                },
                "id": "v-AI4fjIoC4D",
                "executionInfo": {
                    "status": "ok",
                    "timestamp": 1749648484909,
                    "user_tz": -180,
                    "elapsed": 4,
                    "user": {
                        "displayName": "Kaloina RAKOTONARIVO",
                        "userId": "14674432708886248741"
                    }
                },
                "outputId": "13a2b171-7ca6-456c-de3f-e609f9ff961b"
            },
            "execution_count": 85,
            "outputs": [
                {
                    "output_type": "display_data",
                    "data": {
                        "text/plain": [
                            "<IPython.core.display.HTML object>"
                        ],
                        "text/html": [
                            "\n",
                            "            <style>\n",
                            "                .geemap-dark {\n",
                            "                    --jp-widgets-color: white;\n",
                            "                    --jp-widgets-label-color: white;\n",
                            "                    --jp-ui-font-color1: white;\n",
                            "                    --jp-layout-color2: #454545;\n",
                            "                    background-color: #383838;\n",
                            "                }\n",
                            "\n",
                            "                .geemap-dark .jupyter-button {\n",
                            "                    --jp-layout-color3: #383838;\n",
                            "                }\n",
                            "\n",
                            "                .geemap-colab {\n",
                            "                    background-color: var(--colab-primary-surface-color, white);\n",
                            "                }\n",
                            "\n",
                            "                .geemap-colab .jupyter-button {\n",
                            "                    --jp-layout-color3: var(--colab-primary-surface-color, white);\n",
                            "                }\n",
                            "            </style>\n",
                            "            "
                        ]
                    },
                    "metadata": {}
                }
            ]
        },
        {
            "cell_type": "code",
            "source": [
                "start_date=initial_date\n",
                "\n",
                "def add_days(date_str,dayadd=10):\n",
                "    date_obj = datetime.strptime(date_str, \"%Y-%m-%d\")\n",
                "    new_date = date_obj + timedelta(days=dayadd)\n",
                "    return new_date.strftime(\"%Y-%m-%d\")\n",
                "\n",
                "gray_normalization = 253        # 509-256\n",
                "\n",
                "while start_date < until_date:\n",
                "    end_date=add_days(start_date)\n",
                "    print('start_date: ' + start_date + ', end_date: '+ end_date)\n",
                "    filter_mada_fire= firms_images_mada.filterDate(start_date, end_date)\n",
                "    image=filter_mada_fire.max()\n",
                "    imaget21=image.select('T21')\n",
                "    arrayt21 = geemap.ee_to_numpy(imaget21, region=madagascar, scale=1000)\n",
                "    arrayt21 = np.squeeze(arrayt21, axis=2)\n",
                "    arrayt21[arrayt21 != 0] -= gray_normalization\n",
                "    arrayt21 = arrayt21.astype(np.uint8)\n",
                "    img = Image.fromarray(arrayt21, mode='L')\n",
                "    directory=os.path.join(new_folder, start_date + ',' + end_date + '.png')\n",
                "    img.save(directory)\n",
                "    start_date=add_days(end_date,1)\n",
                "\n",
                "print('end date: ' + end_date)"
            ],
            "metadata": {
                "id": "5UEVvBvzeZfo",
                "colab": {
                    "base_uri": "https://localhost:8080/",
                    "height": 277
                },
                "executionInfo": {
                    "status": "ok",
                    "timestamp": 1749648540227,
                    "user_tz": -180,
                    "elapsed": 53657,
                    "user": {
                        "displayName": "Kaloina RAKOTONARIVO",
                        "userId": "14674432708886248741"
                    }
                },
                "outputId": "3504b233-67f0-4bb4-99c8-977896221b82"
            },
            "execution_count": 86,
            "outputs": [
                {
                    "output_type": "display_data",
                    "data": {
                        "text/plain": [
                            "<IPython.core.display.HTML object>"
                        ],
                        "text/html": [
                            "\n",
                            "            <style>\n",
                            "                .geemap-dark {\n",
                            "                    --jp-widgets-color: white;\n",
                            "                    --jp-widgets-label-color: white;\n",
                            "                    --jp-ui-font-color1: white;\n",
                            "                    --jp-layout-color2: #454545;\n",
                            "                    background-color: #383838;\n",
                            "                }\n",
                            "\n",
                            "                .geemap-dark .jupyter-button {\n",
                            "                    --jp-layout-color3: #383838;\n",
                            "                }\n",
                            "\n",
                            "                .geemap-colab {\n",
                            "                    background-color: var(--colab-primary-surface-color, white);\n",
                            "                }\n",
                            "\n",
                            "                .geemap-colab .jupyter-button {\n",
                            "                    --jp-layout-color3: var(--colab-primary-surface-color, white);\n",
                            "                }\n",
                            "            </style>\n",
                            "            "
                        ]
                    },
                    "metadata": {}
                },
                {
                    "output_type": "stream",
                    "name": "stdout",
                    "text": [
                        "start_date: 2025-01-08, end_date: 2025-01-18\n",
                        "start_date: 2025-01-19, end_date: 2025-01-29\n",
                        "start_date: 2025-01-30, end_date: 2025-02-09\n",
                        "start_date: 2025-02-10, end_date: 2025-02-20\n",
                        "start_date: 2025-02-21, end_date: 2025-03-03\n",
                        "start_date: 2025-03-04, end_date: 2025-03-14\n",
                        "start_date: 2025-03-15, end_date: 2025-03-25\n",
                        "start_date: 2025-03-26, end_date: 2025-04-05\n",
                        "start_date: 2025-04-06, end_date: 2025-04-16\n",
                        "start_date: 2025-04-17, end_date: 2025-04-27\n",
                        "start_date: 2025-04-28, end_date: 2025-05-08\n",
                        "start_date: 2025-05-09, end_date: 2025-05-19\n",
                        "start_date: 2025-05-20, end_date: 2025-05-30\n",
                        "start_date: 2025-05-31, end_date: 2025-06-10\n",
                        "end date: 2025-06-10\n"
                    ]
                }
            ]
        }
    ]
}