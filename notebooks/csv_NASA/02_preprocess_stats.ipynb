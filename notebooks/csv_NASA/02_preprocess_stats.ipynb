{
  "nbformat": 4,
  "nbformat_minor": 0,
  "metadata": {
    "colab": {
      "provenance": []
    },
    "kernelspec": {
      "name": "python3",
      "display_name": "Python 3"
    },
    "language_info": {
      "name": "python"
    }
  },
  "cells": [
    {
      "cell_type": "markdown",
      "source": [
        "# Pre-processing statistics"
      ],
      "metadata": {
        "id": "mN8afYjvQWhu"
      }
    },
    {
      "cell_type": "code",
      "source": [
        "from google.colab import drive\n",
        "drive.mount('/content/drive/')"
      ],
      "metadata": {
        "colab": {
          "base_uri": "https://localhost:8080/"
        },
        "id": "1fD-SVNqbLKb",
        "outputId": "9f92995b-f314-478e-ce6c-798066c101be"
      },
      "execution_count": null,
      "outputs": [
        {
          "output_type": "stream",
          "name": "stdout",
          "text": [
            "Mounted at /content/drive/\n"
          ]
        }
      ]
    },
    {
      "cell_type": "code",
      "source": [
        "import polars as pl\n",
        "import glob\n",
        "import matplotlib.pyplot as plt\n",
        "import seaborn as sns"
      ],
      "metadata": {
        "id": "EY0ywKQ5bmMJ"
      },
      "execution_count": null,
      "outputs": []
    },
    {
      "cell_type": "code",
      "source": [
        "data_dir = '/content/drive/MyDrive/LIAM/Fire_Project/AI_project/data/raw/csv_NASA/modis/instrument_modis_2000-2024'\n",
        "files = glob.glob(data_dir + '/*.csv')"
      ],
      "metadata": {
        "id": "Ur3c4BCubqM_"
      },
      "execution_count": null,
      "outputs": []
    },
    {
      "cell_type": "markdown",
      "source": [
        "## Type 0 rate"
      ],
      "metadata": {
        "id": "QF8HAFYqjMb0"
      }
    },
    {
      "cell_type": "markdown",
      "source": [
        "### Per year"
      ],
      "metadata": {
        "id": "p6k5Dq8YIOcp"
      }
    },
    {
      "cell_type": "code",
      "source": [
        "type0_rate = pl.DataFrame({\n",
        "    'year': pl.Series([], dtype=pl.Int64),\n",
        "    'type0_rate': pl.Series([], dtype=pl.Float64)\n",
        "})\n",
        "\n",
        "for file in files:\n",
        "    df = pl.read_csv(file, separator=';')\n",
        "    pourcentage = (df.filter(pl.col('type') == 0).height / df.height) * 100\n",
        "    year=int(file[-19:][:4])\n",
        "    type0_rate = type0_rate.vstack(pl.DataFrame({\n",
        "    'year': [year],\n",
        "    'type0_rate': [pourcentage]\n",
        "    }))\n",
        "pl.Config.set_tbl_rows(25)\n",
        "type0_rate.sort('year')"
      ],
      "metadata": {
        "colab": {
          "base_uri": "https://localhost:8080/",
          "height": 882
        },
        "id": "WvQxiSctd8uX",
        "outputId": "6308d0f5-3c07-436e-d571-443a1833ef16"
      },
      "execution_count": null,
      "outputs": [
        {
          "output_type": "execute_result",
          "data": {
            "text/plain": [
              "shape: (25, 2)\n",
              "┌──────┬────────────┐\n",
              "│ year ┆ type0_rate │\n",
              "│ ---  ┆ ---        │\n",
              "│ i64  ┆ f64        │\n",
              "╞══════╪════════════╡\n",
              "│ 2000 ┆ 99.833611  │\n",
              "│ 2001 ┆ 99.965351  │\n",
              "│ 2002 ┆ 99.977501  │\n",
              "│ 2003 ┆ 99.98919   │\n",
              "│ 2004 ┆ 99.986755  │\n",
              "│ 2005 ┆ 99.986838  │\n",
              "│ 2006 ┆ 99.98951   │\n",
              "│ 2007 ┆ 99.992586  │\n",
              "│ 2008 ┆ 99.99273   │\n",
              "│ 2009 ┆ 99.992775  │\n",
              "│ 2010 ┆ 99.993825  │\n",
              "│ 2011 ┆ 99.98485   │\n",
              "│ 2012 ┆ 99.984904  │\n",
              "│ 2013 ┆ 99.981749  │\n",
              "│ 2014 ┆ 99.971818  │\n",
              "│ 2015 ┆ 99.976842  │\n",
              "│ 2016 ┆ 99.989446  │\n",
              "│ 2017 ┆ 99.988047  │\n",
              "│ 2018 ┆ 99.963585  │\n",
              "│ 2019 ┆ 99.978639  │\n",
              "│ 2020 ┆ 99.976851  │\n",
              "│ 2021 ┆ 99.952534  │\n",
              "│ 2022 ┆ 99.977857  │\n",
              "│ 2023 ┆ 99.97751   │\n",
              "│ 2024 ┆ 99.464704  │\n",
              "└──────┴────────────┘"
            ],
            "text/html": [
              "<div><style>\n",
              ".dataframe > thead > tr,\n",
              ".dataframe > tbody > tr {\n",
              "  text-align: right;\n",
              "  white-space: pre-wrap;\n",
              "}\n",
              "</style>\n",
              "<small>shape: (25, 2)</small><table border=\"1\" class=\"dataframe\"><thead><tr><th>year</th><th>type0_rate</th></tr><tr><td>i64</td><td>f64</td></tr></thead><tbody><tr><td>2000</td><td>99.833611</td></tr><tr><td>2001</td><td>99.965351</td></tr><tr><td>2002</td><td>99.977501</td></tr><tr><td>2003</td><td>99.98919</td></tr><tr><td>2004</td><td>99.986755</td></tr><tr><td>2005</td><td>99.986838</td></tr><tr><td>2006</td><td>99.98951</td></tr><tr><td>2007</td><td>99.992586</td></tr><tr><td>2008</td><td>99.99273</td></tr><tr><td>2009</td><td>99.992775</td></tr><tr><td>2010</td><td>99.993825</td></tr><tr><td>2011</td><td>99.98485</td></tr><tr><td>2012</td><td>99.984904</td></tr><tr><td>2013</td><td>99.981749</td></tr><tr><td>2014</td><td>99.971818</td></tr><tr><td>2015</td><td>99.976842</td></tr><tr><td>2016</td><td>99.989446</td></tr><tr><td>2017</td><td>99.988047</td></tr><tr><td>2018</td><td>99.963585</td></tr><tr><td>2019</td><td>99.978639</td></tr><tr><td>2020</td><td>99.976851</td></tr><tr><td>2021</td><td>99.952534</td></tr><tr><td>2022</td><td>99.977857</td></tr><tr><td>2023</td><td>99.97751</td></tr><tr><td>2024</td><td>99.464704</td></tr></tbody></table></div>"
            ]
          },
          "metadata": {},
          "execution_count": 4
        }
      ]
    },
    {
      "cell_type": "markdown",
      "source": [
        "### across all data"
      ],
      "metadata": {
        "id": "7hsuf9HQkjZH"
      }
    },
    {
      "cell_type": "code",
      "source": [
        "type0 = type0_rate['type0_rate'].mean()\n",
        "print(type0)"
      ],
      "metadata": {
        "colab": {
          "base_uri": "https://localhost:8080/"
        },
        "id": "B_TLJqRmkwvP",
        "outputId": "2d454b71-8c03-40f2-aa28-5bcea1c7708e"
      },
      "execution_count": null,
      "outputs": [
        {
          "output_type": "stream",
          "name": "stdout",
          "text": [
            "99.95480035653023\n"
          ]
        }
      ]
    },
    {
      "cell_type": "markdown",
      "source": [
        "## 50% and higher confidence rate"
      ],
      "metadata": {
        "id": "Mxo-LmbsBGyz"
      }
    },
    {
      "cell_type": "markdown",
      "source": [
        "### Per year"
      ],
      "metadata": {
        "id": "ObbuA4kZIxAH"
      }
    },
    {
      "cell_type": "code",
      "source": [
        "confidence_rate = pl.DataFrame({\n",
        "    'year': pl.Series([], dtype=pl.Int64),\n",
        "    'confidence_rate': pl.Series([], dtype=pl.Float64)\n",
        "})\n",
        "\n",
        "for file in files:\n",
        "    df = pl.read_csv(file, separator=';')\n",
        "    pourcentage = (df.filter(pl.col('confidence') > 50).height / df.height) * 100\n",
        "    year=int(file[-19:][:4])\n",
        "    confidence_rate = confidence_rate.vstack(pl.DataFrame({\n",
        "    'year': [year],\n",
        "    'confidence_rate': [pourcentage]\n",
        "    }))\n",
        "pl.Config.set_tbl_rows(25)\n",
        "confidence_rate.sort('year')"
      ],
      "metadata": {
        "colab": {
          "base_uri": "https://localhost:8080/",
          "height": 882
        },
        "id": "egLCFK5I5_lf",
        "outputId": "35a7b142-de2e-4a19-fbda-466546af0e52"
      },
      "execution_count": null,
      "outputs": [
        {
          "output_type": "execute_result",
          "data": {
            "text/plain": [
              "shape: (25, 2)\n",
              "┌──────┬─────────────────┐\n",
              "│ year ┆ confidence_rate │\n",
              "│ ---  ┆ ---             │\n",
              "│ i64  ┆ f64             │\n",
              "╞══════╪═════════════════╡\n",
              "│ 2000 ┆ 75.956739       │\n",
              "│ 2001 ┆ 81.142535       │\n",
              "│ 2002 ┆ 82.138393       │\n",
              "│ 2003 ┆ 81.981314       │\n",
              "│ 2004 ┆ 81.430054       │\n",
              "│ 2005 ┆ 81.421765       │\n",
              "│ 2006 ┆ 82.506993       │\n",
              "│ 2007 ┆ 82.14953        │\n",
              "│ 2008 ┆ 82.037441       │\n",
              "│ 2009 ┆ 81.493469       │\n",
              "│ 2010 ┆ 82.248155       │\n",
              "│ 2011 ┆ 81.724112       │\n",
              "│ 2012 ┆ 82.191919       │\n",
              "│ 2013 ┆ 81.882125       │\n",
              "│ 2014 ┆ 82.167368       │\n",
              "│ 2015 ┆ 81.827806       │\n",
              "│ 2016 ┆ 81.661785       │\n",
              "│ 2017 ┆ 82.207499       │\n",
              "│ 2018 ┆ 82.256456       │\n",
              "│ 2019 ┆ 82.562569       │\n",
              "│ 2020 ┆ 82.501273       │\n",
              "│ 2021 ┆ 82.60267        │\n",
              "│ 2022 ┆ 82.037965       │\n",
              "│ 2023 ┆ 82.575299       │\n",
              "│ 2024 ┆ 82.493782       │\n",
              "└──────┴─────────────────┘"
            ],
            "text/html": [
              "<div><style>\n",
              ".dataframe > thead > tr,\n",
              ".dataframe > tbody > tr {\n",
              "  text-align: right;\n",
              "  white-space: pre-wrap;\n",
              "}\n",
              "</style>\n",
              "<small>shape: (25, 2)</small><table border=\"1\" class=\"dataframe\"><thead><tr><th>year</th><th>confidence_rate</th></tr><tr><td>i64</td><td>f64</td></tr></thead><tbody><tr><td>2000</td><td>75.956739</td></tr><tr><td>2001</td><td>81.142535</td></tr><tr><td>2002</td><td>82.138393</td></tr><tr><td>2003</td><td>81.981314</td></tr><tr><td>2004</td><td>81.430054</td></tr><tr><td>2005</td><td>81.421765</td></tr><tr><td>2006</td><td>82.506993</td></tr><tr><td>2007</td><td>82.14953</td></tr><tr><td>2008</td><td>82.037441</td></tr><tr><td>2009</td><td>81.493469</td></tr><tr><td>2010</td><td>82.248155</td></tr><tr><td>2011</td><td>81.724112</td></tr><tr><td>2012</td><td>82.191919</td></tr><tr><td>2013</td><td>81.882125</td></tr><tr><td>2014</td><td>82.167368</td></tr><tr><td>2015</td><td>81.827806</td></tr><tr><td>2016</td><td>81.661785</td></tr><tr><td>2017</td><td>82.207499</td></tr><tr><td>2018</td><td>82.256456</td></tr><tr><td>2019</td><td>82.562569</td></tr><tr><td>2020</td><td>82.501273</td></tr><tr><td>2021</td><td>82.60267</td></tr><tr><td>2022</td><td>82.037965</td></tr><tr><td>2023</td><td>82.575299</td></tr><tr><td>2024</td><td>82.493782</td></tr></tbody></table></div>"
            ]
          },
          "metadata": {},
          "execution_count": 6
        }
      ]
    },
    {
      "cell_type": "markdown",
      "source": [
        "### across all data"
      ],
      "metadata": {
        "id": "qvElUHGPI_MW"
      }
    },
    {
      "cell_type": "code",
      "source": [
        "fiftyp = confidence_rate['confidence_rate'].mean()\n",
        "print(fiftyp)"
      ],
      "metadata": {
        "colab": {
          "base_uri": "https://localhost:8080/"
        },
        "id": "g6oZVslFJMQ3",
        "outputId": "a08dbad8-b0ed-40d8-883b-d44827de6ac7"
      },
      "execution_count": null,
      "outputs": [
        {
          "output_type": "stream",
          "name": "stdout",
          "text": [
            "81.80796062388767\n"
          ]
        }
      ]
    },
    {
      "cell_type": "markdown",
      "source": [
        "## Correlation Analysis: FRP and brightness"
      ],
      "metadata": {
        "id": "BcKJYET8G0BM"
      }
    },
    {
      "cell_type": "markdown",
      "source": [
        "### Per year"
      ],
      "metadata": {
        "id": "upfPdoWpJr52"
      }
    },
    {
      "cell_type": "code",
      "source": [
        "correlation = pl.DataFrame({\n",
        "    'year': pl.Series([], dtype=pl.Int64),\n",
        "    'correlation': pl.Series([], dtype=pl.Float64)\n",
        "})\n",
        "\n",
        "for file in files:\n",
        "    df = pl.read_csv(file, separator=';')\n",
        "    corr = df.select(\n",
        "    pl.corr(\"brightness\", \"frp\")\n",
        "    ).item()\n",
        "    year=int(file[-19:][:4])\n",
        "    correlation = correlation.vstack(pl.DataFrame({\n",
        "    'year': [year],\n",
        "    'correlation': [corr]\n",
        "    }))\n",
        "pl.Config.set_tbl_rows(25)\n",
        "correlation.sort('year')"
      ],
      "metadata": {
        "colab": {
          "base_uri": "https://localhost:8080/",
          "height": 882
        },
        "id": "-rvpnYS4HhVB",
        "outputId": "14c42a47-240a-40bc-830b-2276789fbc38"
      },
      "execution_count": null,
      "outputs": [
        {
          "output_type": "execute_result",
          "data": {
            "text/plain": [
              "shape: (25, 2)\n",
              "┌──────┬─────────────┐\n",
              "│ year ┆ correlation │\n",
              "│ ---  ┆ ---         │\n",
              "│ i64  ┆ f64         │\n",
              "╞══════╪═════════════╡\n",
              "│ 2000 ┆ 0.503093    │\n",
              "│ 2001 ┆ 0.551153    │\n",
              "│ 2002 ┆ 0.602616    │\n",
              "│ 2003 ┆ 0.579244    │\n",
              "│ 2004 ┆ 0.591733    │\n",
              "│ 2005 ┆ 0.612958    │\n",
              "│ 2006 ┆ 0.610973    │\n",
              "│ 2007 ┆ 0.576625    │\n",
              "│ 2008 ┆ 0.584302    │\n",
              "│ 2009 ┆ 0.612626    │\n",
              "│ 2010 ┆ 0.640585    │\n",
              "│ 2011 ┆ 0.593582    │\n",
              "│ 2012 ┆ 0.605295    │\n",
              "│ 2013 ┆ 0.581569    │\n",
              "│ 2014 ┆ 0.621128    │\n",
              "│ 2015 ┆ 0.61665     │\n",
              "│ 2016 ┆ 0.626235    │\n",
              "│ 2017 ┆ 0.625905    │\n",
              "│ 2018 ┆ 0.582114    │\n",
              "│ 2019 ┆ 0.589205    │\n",
              "│ 2020 ┆ 0.616127    │\n",
              "│ 2021 ┆ 0.6372      │\n",
              "│ 2022 ┆ 0.63166     │\n",
              "│ 2023 ┆ 0.620797    │\n",
              "│ 2024 ┆ 0.548493    │\n",
              "└──────┴─────────────┘"
            ],
            "text/html": [
              "<div><style>\n",
              ".dataframe > thead > tr,\n",
              ".dataframe > tbody > tr {\n",
              "  text-align: right;\n",
              "  white-space: pre-wrap;\n",
              "}\n",
              "</style>\n",
              "<small>shape: (25, 2)</small><table border=\"1\" class=\"dataframe\"><thead><tr><th>year</th><th>correlation</th></tr><tr><td>i64</td><td>f64</td></tr></thead><tbody><tr><td>2000</td><td>0.503093</td></tr><tr><td>2001</td><td>0.551153</td></tr><tr><td>2002</td><td>0.602616</td></tr><tr><td>2003</td><td>0.579244</td></tr><tr><td>2004</td><td>0.591733</td></tr><tr><td>2005</td><td>0.612958</td></tr><tr><td>2006</td><td>0.610973</td></tr><tr><td>2007</td><td>0.576625</td></tr><tr><td>2008</td><td>0.584302</td></tr><tr><td>2009</td><td>0.612626</td></tr><tr><td>2010</td><td>0.640585</td></tr><tr><td>2011</td><td>0.593582</td></tr><tr><td>2012</td><td>0.605295</td></tr><tr><td>2013</td><td>0.581569</td></tr><tr><td>2014</td><td>0.621128</td></tr><tr><td>2015</td><td>0.61665</td></tr><tr><td>2016</td><td>0.626235</td></tr><tr><td>2017</td><td>0.625905</td></tr><tr><td>2018</td><td>0.582114</td></tr><tr><td>2019</td><td>0.589205</td></tr><tr><td>2020</td><td>0.616127</td></tr><tr><td>2021</td><td>0.6372</td></tr><tr><td>2022</td><td>0.63166</td></tr><tr><td>2023</td><td>0.620797</td></tr><tr><td>2024</td><td>0.548493</td></tr></tbody></table></div>"
            ]
          },
          "metadata": {},
          "execution_count": 8
        }
      ]
    },
    {
      "cell_type": "markdown",
      "source": [
        "### across all data"
      ],
      "metadata": {
        "id": "022aJcDvJwh9"
      }
    },
    {
      "cell_type": "code",
      "source": [
        "corrcoef = correlation['correlation'].mean()\n",
        "print(corrcoef)"
      ],
      "metadata": {
        "colab": {
          "base_uri": "https://localhost:8080/"
        },
        "id": "pBPEqM7NHizl",
        "outputId": "b726cd78-fe37-4761-e07a-3a226d8561c2"
      },
      "execution_count": null,
      "outputs": [
        {
          "output_type": "stream",
          "name": "stdout",
          "text": [
            "0.5984747205105904\n"
          ]
        }
      ]
    }
  ]
}