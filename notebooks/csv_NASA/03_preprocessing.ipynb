{
  "nbformat": 4,
  "nbformat_minor": 0,
  "metadata": {
    "colab": {
      "provenance": []
    },
    "kernelspec": {
      "name": "python3",
      "display_name": "Python 3"
    },
    "language_info": {
      "name": "python"
    }
  },
  "cells": [
    {
      "cell_type": "markdown",
      "source": [
        "# Data pre-processing"
      ],
      "metadata": {
        "id": "3ZOEnIbnI5aJ"
      }
    },
    {
      "cell_type": "code",
      "source": [
        "from google.colab import drive\n",
        "drive.mount('/content/drive/')"
      ],
      "metadata": {
        "id": "LOJtLtbgombN",
        "colab": {
          "base_uri": "https://localhost:8080/"
        },
        "outputId": "7614083f-ca4b-4b3e-a1f5-b8d9bf4045d3"
      },
      "execution_count": 99,
      "outputs": [
        {
          "output_type": "stream",
          "name": "stdout",
          "text": [
            "Drive already mounted at /content/drive/; to attempt to forcibly remount, call drive.mount(\"/content/drive/\", force_remount=True).\n"
          ]
        }
      ]
    },
    {
      "cell_type": "code",
      "source": [
        "import polars as pl\n",
        "import glob"
      ],
      "metadata": {
        "id": "SEKQG7Icplv7"
      },
      "execution_count": 100,
      "outputs": []
    },
    {
      "cell_type": "markdown",
      "source": [
        "input : raw data directory, interim data directory"
      ],
      "metadata": {
        "id": "RWjtveCtqR1a"
      }
    },
    {
      "cell_type": "code",
      "source": [
        "raw_data_dir = '/content/drive/MyDrive/LIAM/Fire_Project/AI_project/data/raw/csv_NASA/modis/instrument_modis_2000-2024'\n",
        "files = glob.glob(raw_data_dir + '/*.csv')\n",
        "\n",
        "interim_data_dir='/content/drive/MyDrive/LIAM/Fire_Project/AI_project/data/interim/csv_NASA/modis/instrument_modis_2000-2024/'"
      ],
      "metadata": {
        "id": "R2Tb1T3rprjM"
      },
      "execution_count": 101,
      "outputs": []
    },
    {
      "cell_type": "markdown",
      "source": [
        "Here are the preprocessing steps\n",
        "- Filter rows by confidence > 50% and type = 0 (if applicable)\n",
        "- Remove specified columns\n",
        "- Convert acq_date to date format\n",
        "- Save the processed data to a new CSV file in the interim_data_dir with the original file name."
      ],
      "metadata": {
        "id": "a6pwpOD5_7VD"
      }
    },
    {
      "cell_type": "code",
      "source": [
        "for file in files:\n",
        "  df = pl.read_csv(file, separator=';')\n",
        "  if 'type' in df.columns:\n",
        "    df = df.filter((pl.col('confidence') >= 50) & (pl.col('type') == 0))\n",
        "  else:\n",
        "    df = df.filter(pl.col('confidence') >= 50)\n",
        "  df=df.drop(['scan','track','satellite','instrument','confidence','version','bright_t31','daynight','type'])\n",
        "  df = df.with_columns(pl.col(\"acq_date\").str.strptime(pl.Date, \"%d/%m/%Y\"))\n",
        "  df.write_csv(interim_data_dir + file.split('/')[-1])\n",
        "  print('new file created: ' + interim_data_dir + file.split('/')[-1])"
      ],
      "metadata": {
        "colab": {
          "base_uri": "https://localhost:8080/"
        },
        "id": "iYrfzAZFw01v",
        "outputId": "a561e2b2-0a0b-4699-8386-cbd7d76023df"
      },
      "execution_count": 102,
      "outputs": [
        {
          "output_type": "stream",
          "name": "stdout",
          "text": [
            "new file created: /content/drive/MyDrive/LIAM/Fire_Project/AI_project/data/interim/csv_NASA/modis/instrument_modis_2000-2024/modis_2000_Madagascar.csv\n",
            "new file created: /content/drive/MyDrive/LIAM/Fire_Project/AI_project/data/interim/csv_NASA/modis/instrument_modis_2000-2024/modis_2018_Madagascar.csv\n",
            "new file created: /content/drive/MyDrive/LIAM/Fire_Project/AI_project/data/interim/csv_NASA/modis/instrument_modis_2000-2024/modis_2001_Madagascar.csv\n",
            "new file created: /content/drive/MyDrive/LIAM/Fire_Project/AI_project/data/interim/csv_NASA/modis/instrument_modis_2000-2024/modis_2005_Madagascar.csv\n",
            "new file created: /content/drive/MyDrive/LIAM/Fire_Project/AI_project/data/interim/csv_NASA/modis/instrument_modis_2000-2024/modis_2024_madagascar.csv\n",
            "new file created: /content/drive/MyDrive/LIAM/Fire_Project/AI_project/data/interim/csv_NASA/modis/instrument_modis_2000-2024/modis_2023_Madagascar.csv\n",
            "new file created: /content/drive/MyDrive/LIAM/Fire_Project/AI_project/data/interim/csv_NASA/modis/instrument_modis_2000-2024/modis_2021_Madagascar.csv\n",
            "new file created: /content/drive/MyDrive/LIAM/Fire_Project/AI_project/data/interim/csv_NASA/modis/instrument_modis_2000-2024/modis_2020_Madagascar.csv\n",
            "new file created: /content/drive/MyDrive/LIAM/Fire_Project/AI_project/data/interim/csv_NASA/modis/instrument_modis_2000-2024/modis_2022_Madagascar.csv\n",
            "new file created: /content/drive/MyDrive/LIAM/Fire_Project/AI_project/data/interim/csv_NASA/modis/instrument_modis_2000-2024/modis_2019_Madagascar.csv\n",
            "new file created: /content/drive/MyDrive/LIAM/Fire_Project/AI_project/data/interim/csv_NASA/modis/instrument_modis_2000-2024/modis_2017_Madagascar.csv\n",
            "new file created: /content/drive/MyDrive/LIAM/Fire_Project/AI_project/data/interim/csv_NASA/modis/instrument_modis_2000-2024/modis_2016_Madagascar.csv\n",
            "new file created: /content/drive/MyDrive/LIAM/Fire_Project/AI_project/data/interim/csv_NASA/modis/instrument_modis_2000-2024/modis_2015_Madagascar.csv\n",
            "new file created: /content/drive/MyDrive/LIAM/Fire_Project/AI_project/data/interim/csv_NASA/modis/instrument_modis_2000-2024/modis_2014_Madagascar.csv\n",
            "new file created: /content/drive/MyDrive/LIAM/Fire_Project/AI_project/data/interim/csv_NASA/modis/instrument_modis_2000-2024/modis_2013_Madagascar.csv\n",
            "new file created: /content/drive/MyDrive/LIAM/Fire_Project/AI_project/data/interim/csv_NASA/modis/instrument_modis_2000-2024/modis_2012_Madagascar.csv\n",
            "new file created: /content/drive/MyDrive/LIAM/Fire_Project/AI_project/data/interim/csv_NASA/modis/instrument_modis_2000-2024/modis_2011_Madagascar.csv\n",
            "new file created: /content/drive/MyDrive/LIAM/Fire_Project/AI_project/data/interim/csv_NASA/modis/instrument_modis_2000-2024/modis_2010_Madagascar.csv\n",
            "new file created: /content/drive/MyDrive/LIAM/Fire_Project/AI_project/data/interim/csv_NASA/modis/instrument_modis_2000-2024/modis_2009_Madagascar.csv\n",
            "new file created: /content/drive/MyDrive/LIAM/Fire_Project/AI_project/data/interim/csv_NASA/modis/instrument_modis_2000-2024/modis_2008_Madagascar.csv\n",
            "new file created: /content/drive/MyDrive/LIAM/Fire_Project/AI_project/data/interim/csv_NASA/modis/instrument_modis_2000-2024/modis_2006_Madagascar.csv\n",
            "new file created: /content/drive/MyDrive/LIAM/Fire_Project/AI_project/data/interim/csv_NASA/modis/instrument_modis_2000-2024/modis_2004_Madagascar.csv\n",
            "new file created: /content/drive/MyDrive/LIAM/Fire_Project/AI_project/data/interim/csv_NASA/modis/instrument_modis_2000-2024/modis_2002_Madagascar.csv\n",
            "new file created: /content/drive/MyDrive/LIAM/Fire_Project/AI_project/data/interim/csv_NASA/modis/instrument_modis_2000-2024/modis_2007_Madagascar.csv\n",
            "new file created: /content/drive/MyDrive/LIAM/Fire_Project/AI_project/data/interim/csv_NASA/modis/instrument_modis_2000-2024/modis_2003_Madagascar.csv\n"
          ]
        }
      ]
    }
  ]
}